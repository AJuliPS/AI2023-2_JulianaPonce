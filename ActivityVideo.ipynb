{
  "nbformat": 4,
  "nbformat_minor": 0,
  "metadata": {
    "colab": {
      "provenance": [],
      "authorship_tag": "ABX9TyMll6eS5IxX3LqCNTinG7lo",
      "include_colab_link": true
    },
    "kernelspec": {
      "name": "python3",
      "display_name": "Python 3"
    },
    "language_info": {
      "name": "python"
    }
  },
  "cells": [
    {
      "cell_type": "markdown",
      "metadata": {
        "id": "view-in-github",
        "colab_type": "text"
      },
      "source": [
        "<a href=\"https://colab.research.google.com/github/AJuliPS/AI2023-2_JulianaPonce/blob/main/ActivityVideo.ipynb\" target=\"_parent\"><img src=\"https://colab.research.google.com/assets/colab-badge.svg\" alt=\"Open In Colab\"/></a>"
      ]
    },
    {
      "cell_type": "markdown",
      "source": [
        "**VERSIÓN DE PYTHON**"
      ],
      "metadata": {
        "id": "OqN0qw7TGgDf"
      }
    },
    {
      "cell_type": "code",
      "execution_count": null,
      "metadata": {
        "colab": {
          "base_uri": "https://localhost:8080/"
        },
        "id": "7yzPqcF9PJsp",
        "outputId": "5089dd13-c384-48f2-c090-27c5b294987c"
      },
      "outputs": [
        {
          "output_type": "stream",
          "name": "stdout",
          "text": [
            "Python 3.10.12\n"
          ]
        }
      ],
      "source": [
        "!python --version"
      ]
    },
    {
      "cell_type": "markdown",
      "source": [
        "**TIPOS DE DATOS BÁSICOS**"
      ],
      "metadata": {
        "id": "btnzDRx96LhN"
      }
    },
    {
      "cell_type": "code",
      "source": [
        "muestra1=19\n",
        "muestra2=2.2\n",
        "muestra3='juliana'\n",
        "print (type(muestra1))\n",
        "print (type(muestra2))\n",
        "print (type(muestra3))\n",
        "\n",
        "print (muestra1+muestra2)\n",
        "print (muestra1*muestra2)\n",
        "print(muestra1**2)\n",
        "\n",
        "m1=True\n",
        "m2=False\n",
        "\n",
        "#print (m1 and m2)\n",
        "#print(m1 or m2)\n",
        "#print(not m1)\n",
        "#print(len(muestra3))\n",
        "#print(muestra3.upper())\n",
        "#print(muestra3.lower())\n",
        "#print(muestra3.capitalize())\n",
        "\n"
      ],
      "metadata": {
        "colab": {
          "base_uri": "https://localhost:8080/"
        },
        "id": "4V0ZIAyjPPPB",
        "outputId": "b42bb84e-920c-426f-f767-a8535e460a89"
      },
      "execution_count": null,
      "outputs": [
        {
          "output_type": "stream",
          "name": "stdout",
          "text": [
            "<class 'int'>\n",
            "<class 'float'>\n",
            "<class 'str'>\n",
            "21.2\n",
            "41.800000000000004\n",
            "361\n",
            "False\n",
            "True\n",
            "False\n",
            "7\n",
            "JULIANA\n",
            "juliana\n",
            "Juliana\n"
          ]
        }
      ]
    },
    {
      "cell_type": "markdown",
      "source": [
        "**CONTENEDORES**"
      ],
      "metadata": {
        "id": "qtv6sqo6zc-3"
      }
    },
    {
      "cell_type": "markdown",
      "source": [
        "⚔ ***LISTAS***"
      ],
      "metadata": {
        "id": "pLYASxOd7F8L"
      }
    },
    {
      "cell_type": "code",
      "source": [
        "someList=list()\n",
        "someList=['cartulina',1,'carpeta','pintura','goma','tijeras',True]\n",
        "#print(someList[6])\n",
        "#print(len(someList))\n",
        "\n",
        "#print('--------------------------------------------------------------')\n",
        "\n",
        "#for i in someList:\n",
        "#  print(i)\n",
        "#someList.append('lapicero')\n",
        "\n",
        "#print('--------------------------------------------------------------')\n",
        "\n",
        "#for i in someList:\n",
        "#  print(i)\n",
        "#someList.pop(2)\n",
        "\n",
        "#print('****************************************************')\n",
        "\n",
        "#for i in someList:\n",
        "#  print(i)\n",
        "\n",
        "#print('--------------------------------------------------------------')\n",
        "#print(someList[1:6])\n",
        "\n",
        "print(someList[-1])\n",
        "print(someList[:5])"
      ],
      "metadata": {
        "colab": {
          "base_uri": "https://localhost:8080/"
        },
        "id": "qjN_Y1bTzb5V",
        "outputId": "80917cff-d429-4f88-8bc2-5c9c9873cdf7"
      },
      "execution_count": 13,
      "outputs": [
        {
          "output_type": "stream",
          "name": "stdout",
          "text": [
            "True\n",
            "['cartulina', 1, 'carpeta', 'pintura', 'goma']\n"
          ]
        }
      ]
    },
    {
      "cell_type": "markdown",
      "source": [
        "📔 ***DICCIONARIO***"
      ],
      "metadata": {
        "id": "cuWrM65eBvEx"
      }
    },
    {
      "cell_type": "code",
      "source": [
        "diccionario={'nombre':'juliana','edad':22, 'ciudad':'Quinindé'}\n",
        "#print(diccionario['nombre'])\n",
        "#print(diccionario['ciudad'])\n",
        "\n",
        "#diccionario['universidad']='ULEAM'\n",
        "#print(diccionario['universidad'])\n",
        "\n",
        "for item in diccionario:\n",
        "  print(item)\n",
        "\n",
        "print('--------------------------------------------------------------')\n",
        "\n",
        "for key in diccionario:\n",
        "  print(diccionario[key])\n",
        "\n"
      ],
      "metadata": {
        "colab": {
          "base_uri": "https://localhost:8080/"
        },
        "id": "r5QxBZIK9ztt",
        "outputId": "26933333-efb8-428d-deec-7677027766fd"
      },
      "execution_count": 16,
      "outputs": [
        {
          "output_type": "stream",
          "name": "stdout",
          "text": [
            "nombre\n",
            "edad\n",
            "ciudad\n",
            "--------------------------------------------------------------\n",
            "juliana\n",
            "22\n",
            "Quinindé\n"
          ]
        }
      ]
    }
  ]
}