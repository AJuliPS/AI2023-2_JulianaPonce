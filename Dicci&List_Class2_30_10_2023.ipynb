{
  "nbformat": 4,
  "nbformat_minor": 0,
  "metadata": {
    "colab": {
      "provenance": [],
      "authorship_tag": "ABX9TyOqRvzOGIhRhrjiR0uxCfLv",
      "include_colab_link": true
    },
    "kernelspec": {
      "name": "python3",
      "display_name": "Python 3"
    },
    "language_info": {
      "name": "python"
    }
  },
  "cells": [
    {
      "cell_type": "markdown",
      "metadata": {
        "id": "view-in-github",
        "colab_type": "text"
      },
      "source": [
        "<a href=\"https://colab.research.google.com/github/AJuliPS/AI2023-2_JulianaPonce/blob/main/Dicci%26List_Class2_30_10_2023.ipynb\" target=\"_parent\"><img src=\"https://colab.research.google.com/assets/colab-badge.svg\" alt=\"Open In Colab\"/></a>"
      ]
    },
    {
      "cell_type": "code",
      "execution_count": null,
      "metadata": {
        "colab": {
          "base_uri": "https://localhost:8080/"
        },
        "id": "vuxoHSS0E9-f",
        "outputId": "b4f7b954-1807-41eb-c971-bef8dec84156"
      },
      "outputs": [
        {
          "output_type": "stream",
          "name": "stdout",
          "text": [
            "<class 'dict'>\n",
            "dog cute\n",
            "key dog, valuecute\n",
            "key dog, value cute\n",
            "---------------\n",
            "{'dog': 'cute', 'horse': 'big', 'lion': 'strong'}\n",
            "horse big\n",
            "key horse, valuebig\n",
            "key horse, value big\n",
            "---------------\n",
            "{'dog': 'cute', 'horse': 'big', 'lion': 'strong'}\n",
            "lion strong\n",
            "key lion, valuestrong\n",
            "key lion, value strong\n",
            "---------------\n",
            "{'dog': 'cute', 'horse': 'big', 'lion': 'strong'}\n"
          ]
        }
      ],
      "source": [
        "myDiccionario={'dog':'cute','horse':'big','lion':'strong'}\n",
        "\n",
        "print(type(myDiccionario))\n",
        "\n",
        "for key, value in myDiccionario.items():\n",
        "  print(key,value)\n",
        "  print(f'key {key}, value{value}')\n",
        "  print('key %s, value %s'%(key,value))\n",
        "  #print('the key is: {} and the value')\n",
        "\n",
        "  print('---------------')\n",
        "  print(myDiccionario)\n"
      ]
    },
    {
      "cell_type": "code",
      "source": [
        "tmp=list()\n",
        "\n",
        "for i in range(1,101,1):\n",
        "  if i%2==0:\n",
        "    tmp.append(i)\n",
        "print(tmp)\n",
        "print('-------------')\n",
        "\n",
        "aux=[ i  for i in range(1,101,2)]\n",
        "print(aux)\n",
        "aux=[ i  for i in range(1,101) if i%2==0]\n",
        "print(aux)\n",
        "\n"
      ],
      "metadata": {
        "colab": {
          "base_uri": "https://localhost:8080/"
        },
        "id": "W1dayR6nJOp1",
        "outputId": "a259d9c6-0e9b-45b4-f63b-adb9498a5398"
      },
      "execution_count": null,
      "outputs": [
        {
          "output_type": "stream",
          "name": "stdout",
          "text": [
            "[2, 4, 6, 8, 10, 12, 14, 16, 18, 20, 22, 24, 26, 28, 30, 32, 34, 36, 38, 40, 42, 44, 46, 48, 50, 52, 54, 56, 58, 60, 62, 64, 66, 68, 70, 72, 74, 76, 78, 80, 82, 84, 86, 88, 90, 92, 94, 96, 98, 100]\n",
            "-------------\n",
            "[1, 3, 5, 7, 9, 11, 13, 15, 17, 19, 21, 23, 25, 27, 29, 31, 33, 35, 37, 39, 41, 43, 45, 47, 49, 51, 53, 55, 57, 59, 61, 63, 65, 67, 69, 71, 73, 75, 77, 79, 81, 83, 85, 87, 89, 91, 93, 95, 97, 99]\n",
            "[2, 4, 6, 8, 10, 12, 14, 16, 18, 20, 22, 24, 26, 28, 30, 32, 34, 36, 38, 40, 42, 44, 46, 48, 50, 52, 54, 56, 58, 60, 62, 64, 66, 68, 70, 72, 74, 76, 78, 80, 82, 84, 86, 88, 90, 92, 94, 96, 98, 100]\n"
          ]
        }
      ]
    },
    {
      "cell_type": "code",
      "source": [
        "tmpList=[i**2 for i in range(1,101) if i%2==0]\n",
        "print(tmpList)"
      ],
      "metadata": {
        "colab": {
          "base_uri": "https://localhost:8080/"
        },
        "id": "NFy8bk2PK6qF",
        "outputId": "f539634f-8bb3-43f0-90b3-57c0028d3ae3"
      },
      "execution_count": null,
      "outputs": [
        {
          "output_type": "stream",
          "name": "stdout",
          "text": [
            "[4, 16, 36, 64, 100, 144, 196, 256, 324, 400, 484, 576, 676, 784, 900, 1024, 1156, 1296, 1444, 1600, 1764, 1936, 2116, 2304, 2500, 2704, 2916, 3136, 3364, 3600, 3844, 4096, 4356, 4624, 4900, 5184, 5476, 5776, 6084, 6400, 6724, 7056, 7396, 7744, 8100, 8464, 8836, 9216, 9604, 10000]\n"
          ]
        }
      ]
    },
    {
      "cell_type": "code",
      "source": [
        "def upperCase(valString):\n",
        "  pass"
      ],
      "metadata": {
        "id": "Foag96DtJpKW"
      },
      "execution_count": 2,
      "outputs": []
    }
  ]
}