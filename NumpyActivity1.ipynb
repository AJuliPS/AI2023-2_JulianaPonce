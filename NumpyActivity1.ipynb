{
  "nbformat": 4,
  "nbformat_minor": 0,
  "metadata": {
    "colab": {
      "provenance": [],
      "authorship_tag": "ABX9TyM7r/oX5caZ2nZ2upc3FgdH",
      "include_colab_link": true
    },
    "kernelspec": {
      "name": "python3",
      "display_name": "Python 3"
    },
    "language_info": {
      "name": "python"
    }
  },
  "cells": [
    {
      "cell_type": "markdown",
      "metadata": {
        "id": "view-in-github",
        "colab_type": "text"
      },
      "source": [
        "<a href=\"https://colab.research.google.com/github/AJuliPS/AI2023-2_JulianaPonce/blob/main/NumpyActivity1.ipynb\" target=\"_parent\"><img src=\"https://colab.research.google.com/assets/colab-badge.svg\" alt=\"Open In Colab\"/></a>"
      ]
    },
    {
      "cell_type": "code",
      "execution_count": null,
      "metadata": {
        "colab": {
          "base_uri": "https://localhost:8080/"
        },
        "id": "EUvOmBrGFlS-",
        "outputId": "0c95dd51-7a0e-4954-bc15-a9cd28773da7"
      },
      "outputs": [
        {
          "output_type": "stream",
          "name": "stdout",
          "text": [
            "[1 2 4 5]\n",
            "(4,)\n",
            "-------------------------\n",
            "(2, 4)\n",
            "[[1 2 3 4]\n",
            " [1 2 3 4]]\n",
            "<class 'numpy.ndarray'>\n",
            "-------------------------\n",
            "[[0. 0. 0. 0.]\n",
            " [0. 0. 0. 0.]\n",
            " [0. 0. 0. 0.]\n",
            " [0. 0. 0. 0.]]\n",
            "-------------------------\n",
            "[[5 5 5 5]\n",
            " [5 5 5 5]\n",
            " [5 5 5 5]\n",
            " [5 5 5 5]]\n",
            "-------------------------\n",
            "[[1. 0. 0. 0.]\n",
            " [0. 1. 0. 0.]\n",
            " [0. 0. 1. 0.]\n",
            " [0. 0. 0. 1.]]\n",
            "-------------------------\n",
            "[[1. 1. 1. 1.]\n",
            " [1. 1. 1. 1.]\n",
            " [1. 1. 1. 1.]\n",
            " [1. 1. 1. 1.]]\n"
          ]
        }
      ],
      "source": [
        "import numpy as juliana\n",
        "\n",
        "aux=juliana.array([1,2,4,5])\n",
        "print(aux)\n",
        "print(aux.shape) #SHAPE: Devuelve una lista finita de elementos.\n",
        "\n",
        "print('-------------------------')\n",
        "\n",
        "aux=juliana.array([[1,2,3,4],[1,2,3,4]])\n",
        "print(aux.shape)\n",
        "print(aux)\n",
        "print(type(aux))\n",
        "\n",
        "print('-------------------------')\n",
        "\n",
        "tmp=juliana.zeros((4,4))\n",
        "print(tmp)\n",
        "\n",
        "print('-------------------------')\n",
        "\n",
        "tmp=juliana.full((4,4),5)\n",
        "print(tmp)\n",
        "\n",
        "print('-------------------------')\n",
        "\n",
        "tmp=juliana.eye(4,4)\n",
        "print(tmp)\n",
        "\n",
        "print('-------------------------')\n",
        "\n",
        "tmp=juliana.ones((4,4))\n",
        "print(tmp)\n",
        "\n"
      ]
    },
    {
      "cell_type": "code",
      "source": [
        "#matriz de 3x3 de números aleatorios\n",
        "\n",
        "tmp=10*juliana.random.random((3,3))\n",
        "print(tmp)\n"
      ],
      "metadata": {
        "colab": {
          "base_uri": "https://localhost:8080/"
        },
        "id": "OAr7LcCnRuK-",
        "outputId": "6b03294d-608f-41e3-defa-f733a3a53c83"
      },
      "execution_count": null,
      "outputs": [
        {
          "output_type": "stream",
          "name": "stdout",
          "text": [
            "[[4.47763508 9.21443388 6.09512002]\n",
            " [7.14786579 3.69304509 0.99403671]\n",
            " [0.20062445 7.34340752 7.70245712]]\n"
          ]
        }
      ]
    },
    {
      "cell_type": "code",
      "source": [
        "#extraer matriz de los números aleatorios\n",
        "\n",
        "print(tmp[:2,:2])"
      ],
      "metadata": {
        "colab": {
          "base_uri": "https://localhost:8080/"
        },
        "id": "OPQkmxKdSZiT",
        "outputId": "6eb94f02-8bed-4d58-9e05-6c717990aaca"
      },
      "execution_count": null,
      "outputs": [
        {
          "output_type": "stream",
          "name": "stdout",
          "text": [
            "[[4.47763508 9.21443388]\n",
            " [7.14786579 3.69304509]]\n"
          ]
        }
      ]
    },
    {
      "cell_type": "code",
      "source": [
        "#extraer matriz de los números aleatorios\n",
        "\n",
        "print(tmp[:2,1:3])"
      ],
      "metadata": {
        "colab": {
          "base_uri": "https://localhost:8080/"
        },
        "id": "NKhFTMUdTX60",
        "outputId": "5e275fb9-6a98-47d8-ddfd-9a75ed51e558"
      },
      "execution_count": null,
      "outputs": [
        {
          "output_type": "stream",
          "name": "stdout",
          "text": [
            "[[9.21443388 6.09512002]\n",
            " [3.69304509 0.99403671]]\n"
          ]
        }
      ]
    },
    {
      "cell_type": "code",
      "source": [
        "#extraer de la matriz un número aleatorio\n",
        "\n",
        "print(tmp[1,1])"
      ],
      "metadata": {
        "colab": {
          "base_uri": "https://localhost:8080/"
        },
        "id": "3XEXvWEQTi20",
        "outputId": "be4aaa8f-c0a4-406b-f5ef-26144677c8d9"
      },
      "execution_count": null,
      "outputs": [
        {
          "output_type": "stream",
          "name": "stdout",
          "text": [
            "3.6930450928532874\n"
          ]
        }
      ]
    },
    {
      "cell_type": "code",
      "source": [
        "#extraer de la matriz un número aleatorio\n",
        "\n",
        "print(tmp[2,2])"
      ],
      "metadata": {
        "colab": {
          "base_uri": "https://localhost:8080/"
        },
        "id": "oJl4uyvwT47b",
        "outputId": "f51b4255-07ff-4b96-87c1-4a15d70debaa"
      },
      "execution_count": null,
      "outputs": [
        {
          "output_type": "stream",
          "name": "stdout",
          "text": [
            "7.702457116801891\n"
          ]
        }
      ]
    },
    {
      "cell_type": "code",
      "source": [
        "#matriz de 3x3 de números aleatorios\n",
        "\n",
        "tmp=10*juliana.random.random((3,3))\n",
        "print(tmp)"
      ],
      "metadata": {
        "colab": {
          "base_uri": "https://localhost:8080/"
        },
        "id": "swdFUNMLUCBb",
        "outputId": "5222ba23-d4fd-47e0-f834-4f472594a9b2"
      },
      "execution_count": null,
      "outputs": [
        {
          "output_type": "stream",
          "name": "stdout",
          "text": [
            "[[5.17644353 5.56327989 1.83232917]\n",
            " [3.74344802 6.79665717 3.33690742]\n",
            " [7.6098286  0.67064197 5.08733994]]\n"
          ]
        }
      ]
    },
    {
      "cell_type": "code",
      "source": [
        "filter=tmp>5\n",
        "print(tmp[filter])"
      ],
      "metadata": {
        "colab": {
          "base_uri": "https://localhost:8080/"
        },
        "id": "boMKuO2-USsU",
        "outputId": "f5434931-3e9a-4e05-ccbd-a979650fa953"
      },
      "execution_count": null,
      "outputs": [
        {
          "output_type": "stream",
          "name": "stdout",
          "text": [
            "[5.17644353 5.56327989 6.79665717 7.6098286  5.08733994]\n"
          ]
        }
      ]
    },
    {
      "cell_type": "code",
      "source": [
        "#como filtrar Valores de 2 a 4\n",
        "filter=(tmp>=2)&(tmp<=4)\n",
        "print(tmp[filter])"
      ],
      "metadata": {
        "colab": {
          "base_uri": "https://localhost:8080/"
        },
        "id": "g_owwmq_UwS9",
        "outputId": "01e6e875-9c21-49c5-bd09-d5ac13b276b6"
      },
      "execution_count": null,
      "outputs": [
        {
          "output_type": "stream",
          "name": "stdout",
          "text": [
            "[3.74344802 3.33690742]\n"
          ]
        }
      ]
    },
    {
      "cell_type": "code",
      "source": [
        "#matriz de 4x4 de números enteros\n",
        "\n",
        "tmp=juliana.random.randint(0, 50, (4,4))\n",
        "print(tmp)\n",
        "\n",
        "print('-------------------------')\n",
        "\n",
        "filter=juliana.mod(tmp, 2)==0\n",
        "print(tmp[filter])"
      ],
      "metadata": {
        "colab": {
          "base_uri": "https://localhost:8080/"
        },
        "id": "PVt-2m8lWiXq",
        "outputId": "bf8c6ea2-292f-4f67-d6fa-d2b4934986f4"
      },
      "execution_count": null,
      "outputs": [
        {
          "output_type": "stream",
          "name": "stdout",
          "text": [
            "[[30  5 47 35]\n",
            " [41  5 40 44]\n",
            " [ 7 38  4 37]\n",
            " [ 0 28  7  6]]\n",
            "-------------------------\n",
            "[30 40 44 38  4  0 28  6]\n"
          ]
        }
      ]
    }
  ]
}