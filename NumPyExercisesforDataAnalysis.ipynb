{
  "nbformat": 4,
  "nbformat_minor": 0,
  "metadata": {
    "colab": {
      "provenance": [],
      "include_colab_link": true
    },
    "kernelspec": {
      "name": "python3",
      "display_name": "Python 3"
    },
    "language_info": {
      "name": "python"
    }
  },
  "cells": [
    {
      "cell_type": "markdown",
      "metadata": {
        "id": "view-in-github",
        "colab_type": "text"
      },
      "source": [
        "<a href=\"https://colab.research.google.com/github/AJuliPS/AI2023-2_JulianaPonce/blob/main/NumPyExercisesforDataAnalysis.ipynb\" target=\"_parent\"><img src=\"https://colab.research.google.com/assets/colab-badge.svg\" alt=\"Open In Colab\"/></a>"
      ]
    },
    {
      "cell_type": "markdown",
      "source": [
        "NumPy Exercises for Data Analysis"
      ],
      "metadata": {
        "id": "hSsi2_-klame"
      }
    },
    {
      "cell_type": "code",
      "source": [
        "# 1. Import numpy as np and see the version\n",
        "import numpy as np\n",
        "\n",
        "!python --version"
      ],
      "metadata": {
        "id": "kuK4TNepldem",
        "colab": {
          "base_uri": "https://localhost:8080/"
        },
        "outputId": "d911b0b3-7327-4a32-dc4e-fd7587b07873"
      },
      "execution_count": 6,
      "outputs": [
        {
          "output_type": "stream",
          "name": "stdout",
          "text": [
            "Python 3.10.12\n"
          ]
        }
      ]
    },
    {
      "cell_type": "code",
      "source": [
        "# 2. Create a 1D array of numbers from 0 to 9\n",
        "lista1D = list(range(10))\n",
        "print(lista1D)"
      ],
      "metadata": {
        "id": "hbYX-oMBlvS-",
        "colab": {
          "base_uri": "https://localhost:8080/"
        },
        "outputId": "4820170d-1445-45c0-d612-e86706f20289"
      },
      "execution_count": null,
      "outputs": [
        {
          "output_type": "stream",
          "name": "stdout",
          "text": [
            "[0, 1, 2, 3, 4, 5, 6, 7, 8, 9]\n"
          ]
        }
      ]
    },
    {
      "cell_type": "code",
      "source": [
        "# 3. Create random vector of size 10 and replace the maximum value by 0\n",
        "import random\n",
        "\n",
        "# Crear un vector aleatorio de tamaño 10\n",
        "random_vector = [random.randint(1, 100) for _ in range(10)]\n",
        "\n",
        "# Encontrar el valor máximo y su índice\n",
        "max_value = max(random_vector)\n",
        "max_index = random_vector.index(max_value)\n",
        "\n",
        "# Reemplazar el valor máximo por 0\n",
        "random_vector[max_index] = 0\n",
        "\n",
        "print(\"Vector aleatorio con el valor máximo reemplazado por 0:\")\n",
        "print(random_vector)\n",
        "\n"
      ],
      "metadata": {
        "id": "HfsNmdvrwqsO",
        "colab": {
          "base_uri": "https://localhost:8080/"
        },
        "outputId": "7d44c5a4-124b-44d3-ab46-25f9d3a61907"
      },
      "execution_count": null,
      "outputs": [
        {
          "output_type": "stream",
          "name": "stdout",
          "text": [
            "Vector aleatorio con el valor máximo reemplazado por 0:\n",
            "[3, 47, 7, 42, 10, 72, 84, 73, 85, 0]\n"
          ]
        }
      ]
    },
    {
      "cell_type": "code",
      "source": [
        "# 4. Print the number 8 from the array below: arr = np.array([[1,2,3,4,5], [6,7,8,9,10]])\n",
        "\n",
        "arr = np.array([[1, 2, 3, 4, 5], [6, 7, 8, 9, 10]])\n",
        "# Acceder al elemento en la fila 1 (segunda fila) y columna 2 (tercera columna)\n",
        "elemento = arr[1, 2]\n",
        "print(\"Número 8 en la matriz arr:\", elemento)\n",
        "\n"
      ],
      "metadata": {
        "id": "a9T-W3uUoqcE",
        "colab": {
          "base_uri": "https://localhost:8080/"
        },
        "outputId": "3172051c-2adb-4971-fa06-373538bd100a"
      },
      "execution_count": null,
      "outputs": [
        {
          "output_type": "stream",
          "name": "stdout",
          "text": [
            "Número 8 en la matriz arr: 8\n"
          ]
        }
      ]
    },
    {
      "cell_type": "code",
      "source": [
        "# 5. Print the numbers [3, 4, 5] from the array below: arr = np.array([1,2,3,4,5,6,7])\n",
        "\n",
        "arr = np.array([1, 2, 3, 4, 5, 6, 7])\n",
        "\n",
        "subset = arr[2:5] # Utiliza el corte para obtener los números deseados\n",
        "\n",
        "print(\"Números [3, 4, 5] de la matriz arr:\", subset)\n"
      ],
      "metadata": {
        "id": "PqvPijs8o2ub",
        "colab": {
          "base_uri": "https://localhost:8080/"
        },
        "outputId": "2be7fdd3-570f-4d1f-d2d7-c84331e2eb07"
      },
      "execution_count": null,
      "outputs": [
        {
          "output_type": "stream",
          "name": "stdout",
          "text": [
            "Números [3, 4, 5] de la matriz arr: [3 4 5]\n"
          ]
        }
      ]
    },
    {
      "cell_type": "code",
      "source": [
        "# 6. Print the last 4 numbers from the array below: arr = np.array([1,2,3,4,5,6,7])\n",
        "import numpy as np\n",
        "\n",
        "arr = np.array([1, 2, 3, 4, 5, 6, 7])\n",
        "\n",
        "# Se usa el menos para obtener los 4 últimos números\n",
        "ult4num = arr[-4:]\n",
        "\n",
        "print(\"Los 4 últimos números del array arr:\", ult4num)\n"
      ],
      "metadata": {
        "id": "H5iUCizHpk0L",
        "colab": {
          "base_uri": "https://localhost:8080/"
        },
        "outputId": "43843c67-f1af-4e71-efcb-38e007aa98d5"
      },
      "execution_count": null,
      "outputs": [
        {
          "output_type": "stream",
          "name": "stdout",
          "text": [
            "Los 4 últimos números del array arr: [4 5 6 7]\n"
          ]
        }
      ]
    },
    {
      "cell_type": "code",
      "source": [
        "# 7. Create a 3×3 numpy array of all True’s\n",
        "tmp= np.ones((3, 3), dtype=bool)\n",
        "print(tmp)"
      ],
      "metadata": {
        "id": "C9nBztXhl9NA",
        "colab": {
          "base_uri": "https://localhost:8080/"
        },
        "outputId": "c70e84fa-50c1-4b81-9a73-a7e77aeaff3c"
      },
      "execution_count": null,
      "outputs": [
        {
          "output_type": "stream",
          "name": "stdout",
          "text": [
            "[[ True  True  True]\n",
            " [ True  True  True]\n",
            " [ True  True  True]]\n"
          ]
        }
      ]
    },
    {
      "cell_type": "code",
      "source": [
        "# 8. Extract all odd numbers from array\n",
        "\n",
        "array1D = np.array([i for i in range(10)])\n",
        "\n",
        "numImpares = array1D[array1D % 2 != 0]\n",
        "\n",
        "print(\"Matriz original:\", array1D)\n",
        "print(\"Números Impares:\", numImpares)"
      ],
      "metadata": {
        "id": "W18lqbBwmIhw",
        "colab": {
          "base_uri": "https://localhost:8080/"
        },
        "outputId": "399833b9-c8bb-4df9-f156-7d2bd67362b7"
      },
      "execution_count": null,
      "outputs": [
        {
          "output_type": "stream",
          "name": "stdout",
          "text": [
            "Matriz original: [0 1 2 3 4 5 6 7 8 9]\n",
            "Números Impares: [1 3 5 7 9]\n"
          ]
        }
      ]
    },
    {
      "cell_type": "code",
      "source": [
        "# 9. Crea un vector con valores comprendidos entre 10 y 49 (★☆☆).\n",
        "vector = np.arange(10, 50) #ARANGE: crear secuencias de números dentro de un rango específico\n",
        "\n",
        "print(\"Vector con valores entre 10 y 49:\")\n",
        "print(vector)\n",
        "\n"
      ],
      "metadata": {
        "id": "hA9iXCAwr55v",
        "colab": {
          "base_uri": "https://localhost:8080/"
        },
        "outputId": "f5b2e3d2-cf96-407e-87c4-0cb6c8f52dfe"
      },
      "execution_count": null,
      "outputs": [
        {
          "output_type": "stream",
          "name": "stdout",
          "text": [
            "Vector con valores entre 10 y 49:\n",
            "[10 11 12 13 14 15 16 17 18 19 20 21 22 23 24 25 26 27 28 29 30 31 32 33\n",
            " 34 35 36 37 38 39 40 41 42 43 44 45 46 47 48 49]\n"
          ]
        }
      ]
    },
    {
      "cell_type": "code",
      "source": [
        "# 10. Reverse a vector (first element becomes last)\n",
        "original_vector = [1, 2, 3, 4, 5]\n",
        "\n",
        "vectorInvertido = original_vector[::-1]\n",
        "\n",
        "print(\"Vector Original:\", original_vector)\n",
        "print(\"vector Invertido:\", vectorInvertido)\n"
      ],
      "metadata": {
        "id": "R-_IjeHyr83q",
        "colab": {
          "base_uri": "https://localhost:8080/"
        },
        "outputId": "67a79116-35f1-4529-8a1d-18f63e483dcc"
      },
      "execution_count": null,
      "outputs": [
        {
          "output_type": "stream",
          "name": "stdout",
          "text": [
            "Vector Original: [1, 2, 3, 4, 5]\n",
            "vector Invertido: [5, 4, 3, 2, 1]\n"
          ]
        }
      ]
    },
    {
      "cell_type": "code",
      "source": [
        "#  11. Create a 10x10 array with random integer values and find the minimum and maximum values\n",
        "array = np.random.randint(0, 101, size=(10, 10))\n",
        "\n",
        "# Find the minimum and maximum values\n",
        "minV = np.min(array)\n",
        "maxV= np.max(array)\n",
        "\n",
        "print(\"Random 10x10 array:\")\n",
        "print(array)\n",
        "print(\"Minimum value:\", minV)\n",
        "print(\"Maximum value:\", maxV)\n"
      ],
      "metadata": {
        "id": "rEWwl_weuq3B",
        "colab": {
          "base_uri": "https://localhost:8080/"
        },
        "outputId": "51b175ad-194c-4ac0-c459-e3879e75db34"
      },
      "execution_count": null,
      "outputs": [
        {
          "output_type": "stream",
          "name": "stdout",
          "text": [
            "Random 10x10 array:\n",
            "[[ 33  30  16  18  21   5  18  45   6  10]\n",
            " [ 43  39  55  50  70  53  27  34  48  35]\n",
            " [ 14  76  79  65  97  26  23  29  74   6]\n",
            " [ 21  89  64   7  33  99  95  23  88  91]\n",
            " [ 59  93  21  96   4  17   3   8   6  88]\n",
            " [ 70  34  24  62 100  96  97  63  63   1]\n",
            " [ 20  49  86   5  90  79  95  94  73  81]\n",
            " [ 94  60  67  93  37  22  32  76  14  35]\n",
            " [ 91  83  66  80  71  81   7  33  83  40]\n",
            " [ 69  96  55  26  68  82  23  14  94  65]]\n",
            "Minimum value: 1\n",
            "Maximum value: 100\n"
          ]
        }
      ]
    },
    {
      "cell_type": "code",
      "source": [
        "# 12. Create a 3x3x3 array with random values\n",
        "array = np.random.rand(3, 3, 3)\n",
        "print(array)\n"
      ],
      "metadata": {
        "id": "KFy17KsvvSql",
        "colab": {
          "base_uri": "https://localhost:8080/"
        },
        "outputId": "4b9ead36-1855-416d-aaa4-e63ea5f05b16"
      },
      "execution_count": null,
      "outputs": [
        {
          "output_type": "stream",
          "name": "stdout",
          "text": [
            "[[[0.31813911 0.2146331  0.84303186]\n",
            "  [0.74562172 0.01298266 0.90930126]\n",
            "  [0.91241528 0.56780662 0.60820178]]\n",
            "\n",
            " [[0.69024939 0.28479859 0.36625704]\n",
            "  [0.42389467 0.40697329 0.19640948]\n",
            "  [0.56195567 0.64447057 0.74239324]]\n",
            "\n",
            " [[0.13588317 0.50877075 0.1029754 ]\n",
            "  [0.91499314 0.65670719 0.70574774]\n",
            "  [0.20373873 0.7964503  0.76281995]]]\n"
          ]
        }
      ]
    },
    {
      "cell_type": "code",
      "source": [
        "# 13. Replace all odd numbers in arr with -1\n",
        "array1D[array1D % 2 != 0] = -1\n",
        "print(\"Matriz modificada:\", array1D)"
      ],
      "metadata": {
        "id": "X7ol3alqmbNa",
        "colab": {
          "base_uri": "https://localhost:8080/"
        },
        "outputId": "2e1089e4-052a-44fb-e69f-0bd695d14f7c"
      },
      "execution_count": null,
      "outputs": [
        {
          "output_type": "stream",
          "name": "stdout",
          "text": [
            "Matriz modificada: [ 0 -1  2 -1  4 -1  6 -1  8 -1]\n"
          ]
        }
      ]
    },
    {
      "cell_type": "code",
      "source": [
        "# 14. Create an array of type float\n",
        "float_array = np.array([1.0, 2.5, 3.7, 4.2, 5.9], dtype=float)\n",
        "print(float_array)\n"
      ],
      "metadata": {
        "id": "GwdXYn9HqYTL",
        "colab": {
          "base_uri": "https://localhost:8080/"
        },
        "outputId": "ea99bb44-6dde-4aea-d9d6-956c5f86ee05"
      },
      "execution_count": null,
      "outputs": [
        {
          "output_type": "stream",
          "name": "stdout",
          "text": [
            "[1.  2.5 3.7 4.2 5.9]\n"
          ]
        }
      ]
    },
    {
      "cell_type": "code",
      "source": [
        "# Convert a 1D array to a 2D array with 2 rows\n",
        "array2D = array1D.reshape(2, -1)  # El '-1' de reshape infiere automáticamente el número de columnas\n",
        "\n",
        "print(\"Matriz 2D remodelada con 2 filas:\")\n",
        "print(array2D)"
      ],
      "metadata": {
        "id": "LvcL1lUYoPjN",
        "colab": {
          "base_uri": "https://localhost:8080/"
        },
        "outputId": "f7aebcbd-47db-491e-a309-b93bee396e89"
      },
      "execution_count": null,
      "outputs": [
        {
          "output_type": "stream",
          "name": "stdout",
          "text": [
            "Matriz 2D remodelada con 2 filas:\n",
            "[[ 0 -1  2 -1  4]\n",
            " [-1  6 -1  8 -1]]\n"
          ]
        }
      ]
    },
    {
      "cell_type": "code",
      "source": [
        "# ¿Cómo encontrar valores comunes entre dos matrices?\n",
        "\n",
        "Z1 = np.random.randint(0,10,10)\n",
        "Z2 = np.random.randint(0,10,10)\n",
        "common_values = np.intersect1d(Z1, Z2)\n",
        "\n",
        "print(\"Array Z1:\", Z1)\n",
        "print(\"Array Z2:\", Z2)\n",
        "print(\"Common values:\", common_values)"
      ],
      "metadata": {
        "id": "VbzMDKQvv0DX",
        "colab": {
          "base_uri": "https://localhost:8080/"
        },
        "outputId": "9a0b01d9-9532-4ea6-d43f-44ea67a4d1cd"
      },
      "execution_count": null,
      "outputs": [
        {
          "output_type": "stream",
          "name": "stdout",
          "text": [
            "Array Z1: [7 3 4 2 7 2 9 5 9 9]\n",
            "Array Z2: [2 7 5 5 9 3 1 4 2 6]\n",
            "Common values: [2 3 4 5 7 9]\n"
          ]
        }
      ]
    },
    {
      "cell_type": "code",
      "source": [
        "#  Consider two random array A and B, check if they are equal\n",
        "\n",
        "\n",
        "A = np.random.randint(0,2,5)\n",
        "B = np.random.randint(0,2,5)\n",
        "\n",
        "# Check if A and B are equal element-wise\n",
        "are_equal = np.array_equal(A, B)\n",
        "\n",
        "print(\"Array A:\", A)\n",
        "print(\"Array B:\", B)\n",
        "\n",
        "if are_equal:\n",
        "    print(\"Las matrices A y B son iguales.\")\n",
        "else:\n",
        "    print(\"Las matrices A y B no son iguales.\")"
      ],
      "metadata": {
        "id": "RWWspnDAwWGV",
        "colab": {
          "base_uri": "https://localhost:8080/"
        },
        "outputId": "534a5aa0-7c40-4ce0-a239-40a5f654746f"
      },
      "execution_count": null,
      "outputs": [
        {
          "output_type": "stream",
          "name": "stdout",
          "text": [
            "Array A: [0 1 1 0 0]\n",
            "Array B: [0 1 0 0 1]\n",
            "Las matrices A y B no son iguales.\n"
          ]
        }
      ]
    },
    {
      "cell_type": "code",
      "source": [
        "# Stack arrays a and b vertically\n",
        "\n",
        "a = np.array([1, 2, 3])\n",
        "b = np.array([4, 5, 6])\n",
        "\n",
        "# Apila las matrices verticalmente\n",
        "result = np.vstack((a, b))\n",
        "\n",
        "print(\"Resultado de apilar a y b verticalmente:\")\n",
        "print(result)\n"
      ],
      "metadata": {
        "id": "SW3KvPXhoeie",
        "colab": {
          "base_uri": "https://localhost:8080/"
        },
        "outputId": "4c85d36d-248c-4208-e3ae-65f877bba85a"
      },
      "execution_count": null,
      "outputs": [
        {
          "output_type": "stream",
          "name": "stdout",
          "text": [
            "Resultado de apilar a y b verticalmente:\n",
            "[[1 2 3]\n",
            " [4 5 6]]\n"
          ]
        }
      ]
    },
    {
      "cell_type": "code",
      "source": [
        "# Stack the arrays a and b horizontally.\n",
        "\n",
        "# Supongamos que tenemos dos matrices a y b\n",
        "a = np.array([1, 2, 3])\n",
        "b = np.array([4, 5, 6])\n",
        "\n",
        "# Apila las matrices horizontalmente\n",
        "resultado = np.hstack((a, b))\n",
        "\n",
        "print(\"Resultado de apilar a y b horizontalmente:\")\n",
        "print(resultado)\n"
      ],
      "metadata": {
        "id": "6wVOpIT9omwe",
        "colab": {
          "base_uri": "https://localhost:8080/"
        },
        "outputId": "e28db91a-ad7e-4664-a4ab-a695ae531f23"
      },
      "execution_count": null,
      "outputs": [
        {
          "output_type": "stream",
          "name": "stdout",
          "text": [
            "Resultado de apilar a y b horizontalmente:\n",
            "[1 2 3 4 5 6]\n"
          ]
        }
      ]
    },
    {
      "cell_type": "code",
      "source": [
        "# Get all items between 5 and 10 from array tmp.\n",
        "tmp = np.arange(15)\n",
        "# Use boolean indexing to get items between 5 and 10\n",
        "result = tmp[(tmp >= 5) & (tmp <= 10)]\n",
        "print(result)\n"
      ],
      "metadata": {
        "id": "L_7vMkGOo0gX",
        "colab": {
          "base_uri": "https://localhost:8080/"
        },
        "outputId": "a3a60ba2-34ee-4c8a-8323-b0583c9a7ad7"
      },
      "execution_count": null,
      "outputs": [
        {
          "output_type": "stream",
          "name": "stdout",
          "text": [
            "[ 5  6  7  8  9 10]\n"
          ]
        }
      ]
    },
    {
      "cell_type": "code",
      "source": [
        "# How to make a python function that handles scalars to work on numpy arrays?\n",
        "# ¿Cómo hacer que una función python que maneja escalares funcione con matrices numpy?\n",
        "# Hint\n",
        "# Desired Output:\n",
        "# a = np.array([5, 7, 9, 8, 6, 4, 5])\n",
        "# b = np.array([6, 3, 4, 8, 9, 7, 1])\n",
        "# pair_max(a, b)\n",
        "# #> array([ 6.,  7.,  9.,  8.,  9.,  7.,  5.])\n",
        "\n",
        "#def maxx(x, y):\n",
        "#    \"\"\"Consigue el máximo de dos items\"\"\"\n",
        "#    if x >= y:\n",
        "#        return x\n",
        "#    else:\n",
        "#        return y\n",
        "\n",
        "#maxx(1, 5)\n",
        "\n",
        "\n",
        "def pair_max(a, b):\n",
        "    # Utiliza la función numpy.maximum para obtener el máximo elemento a elemento\n",
        "    result = np.maximum(a, b)\n",
        "    return result\n",
        "\n",
        "# Ejemplo de uso\n",
        "a = np.array([5, 7, 9, 8, 6, 4, 5])\n",
        "b = np.array([6, 3, 4, 8, 9, 7, 1])\n",
        "\n",
        "output = pair_max(a, b)\n",
        "print(output)\n",
        "\n",
        "def maxx(x, y):\n",
        "    \"\"\"Consigue el máximo de dos items\"\"\"\n",
        "    if x >= y:\n",
        "        return x\n",
        "    else:\n",
        "        return y\n",
        "\n",
        "maxx(1, 5)"
      ],
      "metadata": {
        "colab": {
          "base_uri": "https://localhost:8080/"
        },
        "id": "FVZz6ZY0p9ya",
        "outputId": "118f1738-e8ae-41a1-8c14-85e6058ef6b3"
      },
      "execution_count": 17,
      "outputs": [
        {
          "output_type": "stream",
          "name": "stdout",
          "text": [
            "[6 7 9 8 9 7 5]\n"
          ]
        },
        {
          "output_type": "execute_result",
          "data": {
            "text/plain": [
              "5"
            ]
          },
          "metadata": {},
          "execution_count": 17
        }
      ]
    },
    {
      "cell_type": "code",
      "source": [
        "# Swap columns 1 and 2 in the array arr.\n",
        "#Intercambia las columnas 1 y 2 del array arr.\n",
        "# Hint\n",
        "# Desired Output:\n",
        "# [[0 2 1]\n",
        "#  [3 5 4]\n",
        "#  [6 8 7]]\n",
        "\n",
        "\n",
        "arr = np.array([[0, 2, 1], [3, 5, 4],[6, 8, 7]])\n",
        "\n",
        "# Intercambiar las columnas 1 y 2\n",
        "arr[:, [0, 1]] = arr[:, [1, 0]]\n",
        "\n",
        "print(arr)\n"
      ],
      "metadata": {
        "colab": {
          "base_uri": "https://localhost:8080/"
        },
        "outputId": "22d6ee42-64b0-4e02-bf14-8c9f0c9e23be",
        "id": "8vIzM5e8ql6i"
      },
      "execution_count": 7,
      "outputs": [
        {
          "output_type": "stream",
          "name": "stdout",
          "text": [
            "[[2 0 1]\n",
            " [5 3 4]\n",
            " [8 6 7]]\n"
          ]
        }
      ]
    },
    {
      "cell_type": "code",
      "source": [
        "# Create a 2D array of shape 5x3 to contain random decimal numbers between 5 and 10.\n",
        "# Crea un array 2D de forma 5x3 para contener números decimales aleatorios entre 5 y 10.\n",
        "# Hint\n",
        "# The desired Output should be like the following one:\n",
        "#  [[ 8.50061025  9.10531502  6.85867783]\n",
        "#   [ 9.76262069  9.87717411  7.13466701]\n",
        "#   [ 7.48966403  8.33409158  6.16808631]\n",
        "#   [ 7.75010551  9.94535696  5.27373226]\n",
        "#   [ 8.0850361   5.56165518  7.31244004]]\n",
        "\n",
        "\n",
        "array_aleatorio = np.random.uniform(5, 10, size=(5, 3))\n",
        "\n",
        "print(array_aleatorio)\n"
      ],
      "metadata": {
        "id": "FOXX5b17rY7E",
        "colab": {
          "base_uri": "https://localhost:8080/"
        },
        "outputId": "985402dd-c16f-421e-e56b-03bd3fabc27d"
      },
      "execution_count": 8,
      "outputs": [
        {
          "output_type": "stream",
          "name": "stdout",
          "text": [
            "[[7.62292643 5.02748551 7.2822462 ]\n",
            " [9.2219902  6.35752053 6.75425615]\n",
            " [5.37441254 7.75996825 5.02302595]\n",
            " [9.2260829  7.68076557 5.58266866]\n",
            " [8.01129347 5.97623315 7.78665529]]\n"
          ]
        }
      ]
    }
  ]
}