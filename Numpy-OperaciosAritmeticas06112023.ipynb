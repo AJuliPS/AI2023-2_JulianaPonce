{
  "nbformat": 4,
  "nbformat_minor": 0,
  "metadata": {
    "colab": {
      "provenance": [],
      "authorship_tag": "ABX9TyPh3quN4BzdaGsg86SqyobI",
      "include_colab_link": true
    },
    "kernelspec": {
      "name": "python3",
      "display_name": "Python 3"
    },
    "language_info": {
      "name": "python"
    }
  },
  "cells": [
    {
      "cell_type": "markdown",
      "metadata": {
        "id": "view-in-github",
        "colab_type": "text"
      },
      "source": [
        "<a href=\"https://colab.research.google.com/github/AJuliPS/AI2023-2_JulianaPonce/blob/main/Numpy-OperaciosAritmeticas06112023.ipynb\" target=\"_parent\"><img src=\"https://colab.research.google.com/assets/colab-badge.svg\" alt=\"Open In Colab\"/></a>"
      ]
    },
    {
      "cell_type": "markdown",
      "source": [
        "**OPERACIONES ARITMÉTICAS**"
      ],
      "metadata": {
        "id": "c0AvZmEe6XS8"
      }
    },
    {
      "cell_type": "code",
      "execution_count": null,
      "metadata": {
        "id": "hl8EV3lm6C2c"
      },
      "outputs": [],
      "source": [
        "import numpy as np"
      ]
    },
    {
      "cell_type": "code",
      "source": [
        "#CREATE AN ARRAY WITH RANDOM INTEGER VALUES BETWEEN 1 AND 10\n",
        "a=np.random.randint(1, 11, size=(3, 4))\n",
        "b=np.random.randint(1, 11, size=(3, 4))\n",
        "\n",
        "print('-------------------------------------------')\n",
        "print(a)\n",
        "\n",
        "print('-------------------------------------------')\n",
        "print(b)\n",
        "\n",
        "print('-------------------------------------------')\n",
        "print(a.shape)\n",
        "print(b.shape)\n",
        "\n",
        "print('-------------------------------------------')\n",
        "print('Sumar números')\n",
        "print(a+b)\n",
        "\n",
        "print('-------------------------------------------')\n",
        "print('Substracción de números')\n",
        "print(a-b)\n",
        "\n",
        "print('-------------------------------------------')\n",
        "print('Sumar números')\n",
        "print(np.add(a,b))\n",
        "\n",
        "print('-------------------------------------------')\n",
        "print('Multiplicación de números')\n",
        "print(np.multiply(a,b))\n",
        "\n",
        "print('-------------------------------------------')\n",
        "print('División de números')\n",
        "print(np.divide(a,b))\n",
        "\n"
      ],
      "metadata": {
        "colab": {
          "base_uri": "https://localhost:8080/"
        },
        "id": "GK5Aobf460vR",
        "outputId": "0fa3b65a-0f73-492b-bbe3-a5fa7ab2e811"
      },
      "execution_count": null,
      "outputs": [
        {
          "output_type": "stream",
          "name": "stdout",
          "text": [
            "-------------------------------------------\n",
            "[[10 10  9  8]\n",
            " [ 2  7 10  3]\n",
            " [ 8  1  8  2]]\n",
            "-------------------------------------------\n",
            "[[ 5  6  8  6]\n",
            " [ 6  6  2  9]\n",
            " [ 5  3 10  9]]\n",
            "-------------------------------------------\n",
            "(3, 4)\n",
            "(3, 4)\n",
            "-------------------------------------------\n",
            "Sumar números\n",
            "[[15 16 17 14]\n",
            " [ 8 13 12 12]\n",
            " [13  4 18 11]]\n",
            "-------------------------------------------\n",
            "Substracción de números\n",
            "[[ 5  4  1  2]\n",
            " [-4  1  8 -6]\n",
            " [ 3 -2 -2 -7]]\n",
            "-------------------------------------------\n",
            "Sumar números\n",
            "[[15 16 17 14]\n",
            " [ 8 13 12 12]\n",
            " [13  4 18 11]]\n",
            "-------------------------------------------\n",
            "Multiplicación de números\n",
            "[[50 60 72 48]\n",
            " [12 42 20 27]\n",
            " [40  3 80 18]]\n",
            "-------------------------------------------\n",
            "División de números\n",
            "[[2.         1.66666667 1.125      1.33333333]\n",
            " [0.33333333 1.16666667 5.         0.33333333]\n",
            " [1.6        0.33333333 0.8        0.22222222]]\n"
          ]
        }
      ]
    },
    {
      "cell_type": "code",
      "source": [
        "a=np.random.randint(1, 11, size=(2, 3))\n",
        "b=np.random.randint(1, 11, size=(3, 4))\n",
        "print(a.shape)\n",
        "print(b.shape)\n",
        "print('-------------------------------------------')\n",
        "print(np.dot(a,b))\n",
        "print('-------------------------------------------')\n",
        "print(a.dot(b))\n",
        "print('-------------------------------------------')\n"
      ],
      "metadata": {
        "colab": {
          "base_uri": "https://localhost:8080/"
        },
        "id": "OalCstq19wAj",
        "outputId": "c64f5a2c-09e5-4cc7-ff62-cc30aa2b49a3"
      },
      "execution_count": null,
      "outputs": [
        {
          "output_type": "stream",
          "name": "stdout",
          "text": [
            "(2, 3)\n",
            "(3, 4)\n",
            "-------------------------------------------\n",
            "[[ 75  68 107 122]\n",
            " [ 29  24  50  39]]\n",
            "-------------------------------------------\n",
            "[[ 75  68 107 122]\n",
            " [ 29  24  50  39]]\n",
            "-------------------------------------------\n"
          ]
        }
      ]
    },
    {
      "cell_type": "code",
      "source": [
        "#MATRIZ DE 2X2 TRANSPUESTA\n",
        "a=np.random.randint(1, 11, size=(2, 2))\n",
        "print(a.shape)\n",
        "print(type(a))\n",
        "print(a)\n",
        "print(a.T)"
      ],
      "metadata": {
        "colab": {
          "base_uri": "https://localhost:8080/"
        },
        "id": "gai6bH_S-Rfr",
        "outputId": "b6df326e-b2e7-42af-ab7e-feefa8c7c98a"
      },
      "execution_count": null,
      "outputs": [
        {
          "output_type": "stream",
          "name": "stdout",
          "text": [
            "(2, 2)\n",
            "<class 'numpy.ndarray'>\n",
            "[[ 4  5]\n",
            " [10  8]]\n",
            "[[ 4 10]\n",
            " [ 5  8]]\n"
          ]
        }
      ]
    },
    {
      "cell_type": "code",
      "source": [
        "#MATRIZ X 4 FILAS 3 COLUMNAS\n",
        "a=np.random.randint(1, 11, size=(4, 3))\n",
        "b=np.array([1,0,2])\n",
        "print(a.shape)\n",
        "print(b.shape)\n",
        "\n",
        "c=np.empty_like(a)\n",
        "print(a)\n",
        "print(b)\n",
        "print(c.shape)\n",
        "print('-------------------------------------------')\n",
        "print(c)\n",
        "\n",
        "\n"
      ],
      "metadata": {
        "colab": {
          "base_uri": "https://localhost:8080/"
        },
        "id": "hLJmwrCW_u87",
        "outputId": "4d42e515-ab43-42b5-dec0-ac76a7d93454"
      },
      "execution_count": null,
      "outputs": [
        {
          "output_type": "stream",
          "name": "stdout",
          "text": [
            "(4, 3)\n",
            "(3,)\n",
            "[[ 3 10  8]\n",
            " [ 7  8  6]\n",
            " [ 9  1  6]\n",
            " [ 9  1  5]]\n",
            "[1 0 2]\n",
            "(4, 3)\n",
            "[[ 4 10 10]\n",
            " [ 8  8  8]\n",
            " [10  1  8]\n",
            " [10  1  7]]\n",
            "-------------------------------------------\n",
            "[[ 3  7 10]\n",
            " [ 8  6  7]\n",
            " [ 3  6  8]\n",
            " [ 8  1  7]]\n"
          ]
        }
      ]
    },
    {
      "cell_type": "code",
      "source": [
        "for i in range(4):\n",
        "  c[i,:]=a[i,:]+b\n",
        "\n",
        "print(a)\n",
        "print(b)\n",
        "print(c)\n",
        "print('-------------------------------------------')\n",
        "c=a+b\n",
        "print(c)"
      ],
      "metadata": {
        "colab": {
          "base_uri": "https://localhost:8080/"
        },
        "id": "BpIeJOfcBvaa",
        "outputId": "0f4992af-2436-45f5-bc20-d884d2abad7b"
      },
      "execution_count": null,
      "outputs": [
        {
          "output_type": "stream",
          "name": "stdout",
          "text": [
            "[[ 3 10  8]\n",
            " [ 7  8  6]\n",
            " [ 9  1  6]\n",
            " [ 9  1  5]]\n",
            "[1 0 2]\n",
            "[[ 4 10 10]\n",
            " [ 8  8  8]\n",
            " [10  1  8]\n",
            " [10  1  7]]\n",
            "-------------------------------------------\n",
            "[[ 4 10 10]\n",
            " [ 8  8  8]\n",
            " [10  1  8]\n",
            " [10  1  7]]\n"
          ]
        }
      ]
    },
    {
      "cell_type": "code",
      "source": [
        "#crear matriz de 6x3 que tengan los mismos valores 1,2,3\n",
        "\n",
        "a = np.full((6, 3), [1, 2, 3])\n",
        "print(a)\n"
      ],
      "metadata": {
        "colab": {
          "base_uri": "https://localhost:8080/"
        },
        "id": "xG7D4RQHDR5q",
        "outputId": "e14c4351-4742-458e-f9d8-08f485f1b8bf"
      },
      "execution_count": null,
      "outputs": [
        {
          "output_type": "stream",
          "name": "stdout",
          "text": [
            "[[1 2 3]\n",
            " [1 2 3]\n",
            " [1 2 3]\n",
            " [1 2 3]\n",
            " [1 2 3]\n",
            " [1 2 3]]\n"
          ]
        }
      ]
    },
    {
      "cell_type": "markdown",
      "source": [
        "***Función tile***"
      ],
      "metadata": {
        "id": "CKLjR4_UEtIq"
      }
    },
    {
      "cell_type": "code",
      "source": [
        "a=np.array([1,2,3])\n",
        "#print(a)\n",
        "\n",
        "tmp=np.tile(a, (6,1)) #TILE se utiliza para repetir una matriz o vector un número determinado de veces\n",
        "print(tmp)"
      ],
      "metadata": {
        "colab": {
          "base_uri": "https://localhost:8080/"
        },
        "id": "Dwwx0tmeE-69",
        "outputId": "4f1a2386-7d99-46bd-cddf-511f251076ed"
      },
      "execution_count": null,
      "outputs": [
        {
          "output_type": "stream",
          "name": "stdout",
          "text": [
            "[[1 2 3]\n",
            " [1 2 3]\n",
            " [1 2 3]\n",
            " [1 2 3]\n",
            " [1 2 3]\n",
            " [1 2 3]]\n"
          ]
        }
      ]
    },
    {
      "cell_type": "code",
      "source": [
        "#matriz de 6x6 que los numeros sean enteros\n",
        "a=np.random.randint(0, 10, size=(6,6))\n",
        "print(a)\n",
        "\n",
        "print('-------------------------------------------')\n",
        "\n",
        "#PROMEDIO\n",
        "aux=np.mean(a)\n",
        "print(aux)\n",
        "print('-------------------------------------------')\n",
        "\n",
        "#COMO OBTENER EL PROMEDIO POR FILA\n",
        "print(a.mean(axis=1))\n",
        "\n",
        "print('-------------------------------------------')\n",
        "#COMO OBTENER EL PROMEDIO POR COLUMNA\n",
        "print(a.mean(axis=0))\n",
        "\n"
      ],
      "metadata": {
        "colab": {
          "base_uri": "https://localhost:8080/"
        },
        "id": "rDtMiyqPF_Ep",
        "outputId": "12af11e3-6df6-4549-8ff1-171c983cf5de"
      },
      "execution_count": null,
      "outputs": [
        {
          "output_type": "stream",
          "name": "stdout",
          "text": [
            "[[4 6 1 4 4 9]\n",
            " [2 6 2 5 9 6]\n",
            " [6 8 1 5 9 2]\n",
            " [9 6 2 2 6 8]\n",
            " [9 2 7 7 1 1]\n",
            " [7 3 9 5 6 6]]\n",
            "-------------------------------------------\n",
            "5.138888888888889\n",
            "-------------------------------------------\n",
            "[4.66666667 5.         5.16666667 5.5        4.5        6.        ]\n",
            "-------------------------------------------\n",
            "[6.16666667 5.16666667 3.66666667 4.66666667 5.83333333 5.33333333]\n"
          ]
        }
      ]
    }
  ]
}