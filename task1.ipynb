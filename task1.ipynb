{
  "nbformat": 4,
  "nbformat_minor": 0,
  "metadata": {
    "colab": {
      "provenance": [],
      "authorship_tag": "ABX9TyNtpwYjydh89Wrou1cVLMfP",
      "include_colab_link": true
    },
    "kernelspec": {
      "name": "python3",
      "display_name": "Python 3"
    },
    "language_info": {
      "name": "python"
    }
  },
  "cells": [
    {
      "cell_type": "markdown",
      "metadata": {
        "id": "view-in-github",
        "colab_type": "text"
      },
      "source": [
        "<a href=\"https://colab.research.google.com/github/AJuliPS/AI2023-2_JulianaPonce/blob/main/task1.ipynb\" target=\"_parent\"><img src=\"https://colab.research.google.com/assets/colab-badge.svg\" alt=\"Open In Colab\"/></a>"
      ]
    },
    {
      "cell_type": "code",
      "execution_count": null,
      "metadata": {
        "colab": {
          "base_uri": "https://localhost:8080/"
        },
        "id": "JWfr8TRwR1zT",
        "outputId": "f3cad2e2-4181-4a6f-f645-eba6053e8346"
      },
      "outputs": [
        {
          "output_type": "stream",
          "name": "stdout",
          "text": [
            "Python 3.10.12\n"
          ]
        }
      ],
      "source": [
        "!python --version"
      ]
    },
    {
      "cell_type": "code",
      "source": [
        "myVariableA_1=4\n",
        "myVariableA_2=6\n",
        "print(myVariableA_1+myVariableA_2)\n",
        "print(myVariableA_1-myVariableA_2)\n",
        "print(myVariableA_1*myVariableA_2)\n",
        "print(myVariableA_1/myVariableA_2)"
      ],
      "metadata": {
        "colab": {
          "base_uri": "https://localhost:8080/"
        },
        "id": "QXDB2-slSxFK",
        "outputId": "fcd0efbe-2ae9-4742-afaf-1a0f778d3b8f"
      },
      "execution_count": null,
      "outputs": [
        {
          "output_type": "stream",
          "name": "stdout",
          "text": [
            "10\n",
            "-2\n",
            "24\n",
            "0.6666666666666666\n"
          ]
        }
      ]
    },
    {
      "cell_type": "code",
      "source": [
        "aux1=True\n",
        "aux2=False\n",
        "\n",
        "print(aux1 and aux2)\n",
        "\n",
        "print(aux1 or aux2)\n",
        "\n",
        "print(not aux1)"
      ],
      "metadata": {
        "colab": {
          "base_uri": "https://localhost:8080/"
        },
        "id": "Z1-9k2yAS_Oq",
        "outputId": "0c6489c9-774c-4df8-c019-b89b37918d00"
      },
      "execution_count": null,
      "outputs": [
        {
          "output_type": "stream",
          "name": "stdout",
          "text": [
            "False\n",
            "True\n",
            "False\n"
          ]
        }
      ]
    },
    {
      "cell_type": "code",
      "source": [
        "myNameIs='Juliana Ponce'\n",
        "print(myNameIs)"
      ],
      "metadata": {
        "colab": {
          "base_uri": "https://localhost:8080/"
        },
        "id": "JBhRi_J-TXPC",
        "outputId": "fc4883ae-be34-4d3e-b5ca-518a183f730f"
      },
      "execution_count": null,
      "outputs": [
        {
          "output_type": "stream",
          "name": "stdout",
          "text": [
            "Juliana Ponce\n"
          ]
        }
      ]
    },
    {
      "cell_type": "code",
      "source": [
        "myNameIs='Juliana Ponce'\n",
        "print(myNameIs.upper())\n",
        "print(myNameIs.lower())\n",
        "print(myNameIs.capitalize())"
      ],
      "metadata": {
        "colab": {
          "base_uri": "https://localhost:8080/"
        },
        "id": "jiFooaEsTxVa",
        "outputId": "ea642ea4-5b4c-4a75-b12d-8d686c6a74b3"
      },
      "execution_count": null,
      "outputs": [
        {
          "output_type": "stream",
          "name": "stdout",
          "text": [
            "JULIANA PONCE\n",
            "juliana ponce\n",
            "Juliana ponce\n"
          ]
        }
      ]
    },
    {
      "cell_type": "code",
      "source": [
        "tmp='angie, juliana, angeline'\n",
        "print(tmp)\n",
        "print(tmp.split(','))"
      ],
      "metadata": {
        "colab": {
          "base_uri": "https://localhost:8080/"
        },
        "id": "H56ZeFkJUsaa",
        "outputId": "4eee7784-3391-4f2c-c9c0-881bd081975c"
      },
      "execution_count": null,
      "outputs": [
        {
          "output_type": "stream",
          "name": "stdout",
          "text": [
            "angie, juliana, angeline\n",
            "['angie', ' juliana', ' angeline']\n"
          ]
        }
      ]
    },
    {
      "cell_type": "code",
      "source": [
        "scholarList=['pencil', 'notebook', 'eraser', 'ruler', 'scissors', 'pen']\n",
        "print(scholarList)\n",
        "scholarList.append('markets')\n",
        "print(scholarList)\n",
        "#print(scholarList[2])\n",
        "#scholarList.pop(2)\n",
        "\n",
        "del scholarList[2]\n",
        "print(scholarList)"
      ],
      "metadata": {
        "colab": {
          "base_uri": "https://localhost:8080/"
        },
        "id": "yMnPEWLTVgni",
        "outputId": "806ab058-a381-4e33-cddc-ddeb3826d3c4"
      },
      "execution_count": null,
      "outputs": [
        {
          "output_type": "stream",
          "name": "stdout",
          "text": [
            "['pencil', 'notebook', 'eraser', 'ruler', 'scissors', 'pen']\n",
            "['pencil', 'notebook', 'eraser', 'ruler', 'scissors', 'pen', 'markets']\n",
            "['pencil', 'notebook', 'ruler', 'scissors', 'pen', 'markets']\n"
          ]
        }
      ]
    },
    {
      "cell_type": "code",
      "source": [
        "miLista=list(range(20))\n",
        "print(miLista)\n",
        "print(miLista[5:11])\n",
        "\n",
        "print(miLista[-4])"
      ],
      "metadata": {
        "colab": {
          "base_uri": "https://localhost:8080/"
        },
        "id": "TIRVTVMhY4a6",
        "outputId": "91646686-cbd1-4393-9212-429b4f3f70b8"
      },
      "execution_count": null,
      "outputs": [
        {
          "output_type": "stream",
          "name": "stdout",
          "text": [
            "[0, 1, 2, 3, 4, 5, 6, 7, 8, 9, 10, 11, 12, 13, 14, 15, 16, 17, 18, 19]\n",
            "[5, 6, 7, 8, 9, 10]\n",
            "16\n"
          ]
        }
      ]
    }
  ]
}