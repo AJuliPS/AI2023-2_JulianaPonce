{
  "nbformat": 4,
  "nbformat_minor": 0,
  "metadata": {
    "colab": {
      "provenance": [],
      "authorship_tag": "ABX9TyMkT4A8xwZ6IYBjMhfjUHyw",
      "include_colab_link": true
    },
    "kernelspec": {
      "name": "python3",
      "display_name": "Python 3"
    },
    "language_info": {
      "name": "python"
    }
  },
  "cells": [
    {
      "cell_type": "markdown",
      "metadata": {
        "id": "view-in-github",
        "colab_type": "text"
      },
      "source": [
        "<a href=\"https://colab.research.google.com/github/AJuliPS/AI2023-2_JulianaPonce/blob/main/task1.ipynb\" target=\"_parent\"><img src=\"https://colab.research.google.com/assets/colab-badge.svg\" alt=\"Open In Colab\"/></a>"
      ]
    },
    {
      "cell_type": "code",
      "execution_count": 1,
      "metadata": {
        "colab": {
          "base_uri": "https://localhost:8080/"
        },
        "id": "JWfr8TRwR1zT",
        "outputId": "f62424b1-a9a6-4357-a5fc-4239a4edf8cb"
      },
      "outputs": [
        {
          "output_type": "stream",
          "name": "stdout",
          "text": [
            "Python 3.10.12\n"
          ]
        }
      ],
      "source": [
        "!python --version"
      ]
    },
    {
      "cell_type": "code",
      "source": [
        "myVariableA_1=4\n",
        "myVariableA_2=6\n",
        "print(myVariableA_1+myVariableA_2)\n",
        "print(myVariableA_1-myVariableA_2)\n",
        "print(myVariableA_1*myVariableA_2)\n",
        "print(myVariableA_1/myVariableA_2)"
      ],
      "metadata": {
        "colab": {
          "base_uri": "https://localhost:8080/"
        },
        "id": "QXDB2-slSxFK",
        "outputId": "256ab362-f39b-47a2-8a01-a47812ca4414"
      },
      "execution_count": 2,
      "outputs": [
        {
          "output_type": "stream",
          "name": "stdout",
          "text": [
            "10\n",
            "-2\n",
            "24\n",
            "0.6666666666666666\n"
          ]
        }
      ]
    },
    {
      "cell_type": "code",
      "source": [
        "aux1=True\n",
        "aux2=False\n",
        "\n",
        "print(aux1 and aux2)\n",
        "\n",
        "print(aux1 or aux2)\n",
        "\n",
        "print(not aux1)"
      ],
      "metadata": {
        "colab": {
          "base_uri": "https://localhost:8080/"
        },
        "id": "Z1-9k2yAS_Oq",
        "outputId": "a759a5d6-ee08-46c0-e8d0-7c4f4fb3f827"
      },
      "execution_count": 3,
      "outputs": [
        {
          "output_type": "stream",
          "name": "stdout",
          "text": [
            "False\n",
            "True\n",
            "False\n"
          ]
        }
      ]
    },
    {
      "cell_type": "code",
      "source": [
        "myNameIs='Juliana Ponce'\n",
        "print(myNameIs)"
      ],
      "metadata": {
        "colab": {
          "base_uri": "https://localhost:8080/"
        },
        "id": "JBhRi_J-TXPC",
        "outputId": "f5f27288-eafb-469e-b2dd-fcd3b109a5a5"
      },
      "execution_count": 4,
      "outputs": [
        {
          "output_type": "stream",
          "name": "stdout",
          "text": [
            "Juliana Ponce\n"
          ]
        }
      ]
    },
    {
      "cell_type": "code",
      "source": [
        "myNameIs='Juliana Ponce'\n",
        "print(myNameIs.upper())\n",
        "print(myNameIs.lower())\n",
        "print(myNameIs.capitalize())"
      ],
      "metadata": {
        "colab": {
          "base_uri": "https://localhost:8080/"
        },
        "id": "jiFooaEsTxVa",
        "outputId": "84907c53-f9d3-4cbc-bddb-7184f4b7313d"
      },
      "execution_count": 5,
      "outputs": [
        {
          "output_type": "stream",
          "name": "stdout",
          "text": [
            "JULIANA PONCE\n",
            "juliana ponce\n",
            "Juliana ponce\n"
          ]
        }
      ]
    },
    {
      "cell_type": "code",
      "source": [
        "tmp='angie, juliana, angeline'\n",
        "print(tmp)\n",
        "print(tmp.split(','))"
      ],
      "metadata": {
        "colab": {
          "base_uri": "https://localhost:8080/"
        },
        "id": "H56ZeFkJUsaa",
        "outputId": "7378490e-e8e4-4e82-9c4d-443b61582782"
      },
      "execution_count": 6,
      "outputs": [
        {
          "output_type": "stream",
          "name": "stdout",
          "text": [
            "angie, juliana, angeline\n",
            "['angie', ' juliana', ' angeline']\n"
          ]
        }
      ]
    },
    {
      "cell_type": "code",
      "source": [
        "scholarList=['pencil', 'notebook', 'eraser', 'ruler', 'scissors', 'pen']\n",
        "print(scholarList)\n",
        "scholarList.append('markets')\n",
        "print(scholarList)\n",
        "#print(scholarList[2])\n",
        "#scholarList.pop(2)\n",
        "\n",
        "del scholarList[2]\n",
        "print(scholarList)"
      ],
      "metadata": {
        "colab": {
          "base_uri": "https://localhost:8080/"
        },
        "id": "yMnPEWLTVgni",
        "outputId": "f50c168d-3cc6-44d9-a3a2-76f331b1bef6"
      },
      "execution_count": 7,
      "outputs": [
        {
          "output_type": "stream",
          "name": "stdout",
          "text": [
            "['pencil', 'notebook', 'eraser', 'ruler', 'scissors', 'pen']\n",
            "['pencil', 'notebook', 'eraser', 'ruler', 'scissors', 'pen', 'markets']\n",
            "['pencil', 'notebook', 'ruler', 'scissors', 'pen', 'markets']\n"
          ]
        }
      ]
    },
    {
      "cell_type": "code",
      "source": [
        "miLista=list(range(20))\n",
        "print(miLista)\n",
        "print(miLista[5:11])\n",
        "\n",
        "print(miLista[-4])"
      ],
      "metadata": {
        "colab": {
          "base_uri": "https://localhost:8080/"
        },
        "id": "TIRVTVMhY4a6",
        "outputId": "6335c6ba-028a-44f2-f680-fa84e78961e1"
      },
      "execution_count": 8,
      "outputs": [
        {
          "output_type": "stream",
          "name": "stdout",
          "text": [
            "[0, 1, 2, 3, 4, 5, 6, 7, 8, 9, 10, 11, 12, 13, 14, 15, 16, 17, 18, 19]\n",
            "[5, 6, 7, 8, 9, 10]\n",
            "16\n"
          ]
        }
      ]
    },
    {
      "cell_type": "markdown",
      "source": [
        "Continuación de la clase . . ."
      ],
      "metadata": {
        "id": "nkkdi9hydrmB"
      }
    },
    {
      "cell_type": "code",
      "source": [
        "myDiccionario={'dog':'cute','horse':'big','lion':'strong'}\n",
        "\n",
        "print(type(myDiccionario))\n",
        "\n",
        "for key, value in myDiccionario.items():\n",
        "  print(key,value)\n",
        "  print(f'key {key}, value{value}')\n",
        "  print('key %s, value %s'%(key,value))\n",
        "  #print('the key is: {} and the value')\n",
        "\n",
        "  print('---------------')\n",
        "  print(myDiccionario)\n"
      ],
      "metadata": {
        "colab": {
          "base_uri": "https://localhost:8080/"
        },
        "id": "jNOA-dCkdvLQ",
        "outputId": "b9651b6a-0319-4979-da34-5cc6e393e6ce"
      },
      "execution_count": 9,
      "outputs": [
        {
          "output_type": "stream",
          "name": "stdout",
          "text": [
            "<class 'dict'>\n",
            "dog cute\n",
            "key dog, valuecute\n",
            "key dog, value cute\n",
            "---------------\n",
            "{'dog': 'cute', 'horse': 'big', 'lion': 'strong'}\n",
            "horse big\n",
            "key horse, valuebig\n",
            "key horse, value big\n",
            "---------------\n",
            "{'dog': 'cute', 'horse': 'big', 'lion': 'strong'}\n",
            "lion strong\n",
            "key lion, valuestrong\n",
            "key lion, value strong\n",
            "---------------\n",
            "{'dog': 'cute', 'horse': 'big', 'lion': 'strong'}\n"
          ]
        }
      ]
    },
    {
      "cell_type": "code",
      "source": [
        "tmp=list()\n",
        "\n",
        "for i in range(1,101,1):\n",
        "  if i%2==0:\n",
        "    tmp.append(i)\n",
        "print(tmp)\n",
        "print('-------------')\n",
        "\n",
        "aux=[ i  for i in range(1,101,2)]\n",
        "print(aux)\n",
        "aux=[ i  for i in range(1,101) if i%2==0]\n",
        "print(aux)"
      ],
      "metadata": {
        "colab": {
          "base_uri": "https://localhost:8080/"
        },
        "id": "yW30Zw-ed36b",
        "outputId": "4ea73897-e5f3-4fad-cee0-b826b512218d"
      },
      "execution_count": 10,
      "outputs": [
        {
          "output_type": "stream",
          "name": "stdout",
          "text": [
            "[2, 4, 6, 8, 10, 12, 14, 16, 18, 20, 22, 24, 26, 28, 30, 32, 34, 36, 38, 40, 42, 44, 46, 48, 50, 52, 54, 56, 58, 60, 62, 64, 66, 68, 70, 72, 74, 76, 78, 80, 82, 84, 86, 88, 90, 92, 94, 96, 98, 100]\n",
            "-------------\n",
            "[1, 3, 5, 7, 9, 11, 13, 15, 17, 19, 21, 23, 25, 27, 29, 31, 33, 35, 37, 39, 41, 43, 45, 47, 49, 51, 53, 55, 57, 59, 61, 63, 65, 67, 69, 71, 73, 75, 77, 79, 81, 83, 85, 87, 89, 91, 93, 95, 97, 99]\n",
            "[2, 4, 6, 8, 10, 12, 14, 16, 18, 20, 22, 24, 26, 28, 30, 32, 34, 36, 38, 40, 42, 44, 46, 48, 50, 52, 54, 56, 58, 60, 62, 64, 66, 68, 70, 72, 74, 76, 78, 80, 82, 84, 86, 88, 90, 92, 94, 96, 98, 100]\n"
          ]
        }
      ]
    },
    {
      "cell_type": "code",
      "source": [
        "tmpList=[i**2 for i in range(1,101) if i%2==0]\n",
        "print(tmpList)"
      ],
      "metadata": {
        "colab": {
          "base_uri": "https://localhost:8080/"
        },
        "id": "V82jH8gyeLNd",
        "outputId": "8eb9bfd7-7107-4b40-b0ba-e748913bc4e7"
      },
      "execution_count": 11,
      "outputs": [
        {
          "output_type": "stream",
          "name": "stdout",
          "text": [
            "[4, 16, 36, 64, 100, 144, 196, 256, 324, 400, 484, 576, 676, 784, 900, 1024, 1156, 1296, 1444, 1600, 1764, 1936, 2116, 2304, 2500, 2704, 2916, 3136, 3364, 3600, 3844, 4096, 4356, 4624, 4900, 5184, 5476, 5776, 6084, 6400, 6724, 7056, 7396, 7744, 8100, 8464, 8836, 9216, 9604, 10000]\n"
          ]
        }
      ]
    },
    {
      "cell_type": "code",
      "source": [
        "def upperCase(valString):\n",
        "  pass"
      ],
      "metadata": {
        "id": "izFeChSeeO8x"
      },
      "execution_count": 12,
      "outputs": []
    }
  ]
}